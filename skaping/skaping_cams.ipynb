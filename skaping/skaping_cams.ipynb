{
 "cells": [
  {
   "cell_type": "code",
   "execution_count": 7,
   "metadata": {},
   "outputs": [],
   "source": [
    "import pandas as pd\n",
    "import numpy as np\n",
    "import matplotlib.pyplot as plt\n",
    "#scraping packages\n",
    "import requests\n",
    "import bs4\n",
    "import lxml\n",
    "import html5lib\n",
    "import webbrowser\n",
    "import pyperclip\n"
   ]
  },
  {
   "cell_type": "code",
   "execution_count": 2,
   "metadata": {},
   "outputs": [],
   "source": [
    "from bs4 import BeautifulSoup\n",
    "\n",
    "with open('data/cams.html', 'r', encoding='utf-8') as f:\n",
    "\n",
    "    cams = f.read()"
   ]
  },
  {
   "cell_type": "code",
   "execution_count": 3,
   "metadata": {},
   "outputs": [],
   "source": [
    "def extract(t):\n",
    "    link = t.split('href=\\\\\"')[1].split('\"')[0]\n",
    "    name = (t.split('title:\"')[1].split('\"')[0]).replace(\"\\\\\",\"\")\n",
    "    gps = eval(t.split(\"LatLng(\")[1].split(\")\")[0])\n",
    "    dico = {\"gps\":gps, \"name\":name, \"link\":link}\n",
    "    return dico"
   ]
  },
  {
   "cell_type": "code",
   "execution_count": 4,
   "metadata": {},
   "outputs": [],
   "source": [
    "dics = []\n",
    "for t in cams.split(\"new google.maps.InfoWindow\"):\n",
    "    try:\n",
    "        dics.append(extract(t))\n",
    "    except:\n",
    "        pass"
   ]
  },
  {
   "cell_type": "code",
   "execution_count": 5,
   "metadata": {},
   "outputs": [
    {
     "data": {
      "text/plain": [
       "434"
      ]
     },
     "execution_count": 5,
     "metadata": {},
     "output_type": "execute_result"
    }
   ],
   "source": [
    "len(dics)"
   ]
  },
  {
   "cell_type": "code",
   "execution_count": 99,
   "metadata": {},
   "outputs": [
    {
     "name": "stdout",
     "output_type": "stream",
     "text": [
      "Col de Porte \n"
     ]
    }
   ],
   "source": [
    "i = dics[k]\n",
    "\n",
    "\n",
    "url = \"https://www.windy.com/-Add-new-webcam/webcams/add?\" + str(i[\"gps\"][0]) + \",\" + str(i[\"gps\"][1]) + \",15\"\n",
    "print(i[\"name\"])\n",
    "pyperclip.copy(i[\"link\"])\n",
    "webbrowser.open_new_tab(url)\n",
    "webbrowser.open_new_tab(i[\"link\"])\n",
    "k += 1"
   ]
  },
  {
   "cell_type": "code",
   "execution_count": 100,
   "metadata": {},
   "outputs": [],
   "source": [
    "k-=3"
   ]
  },
  {
   "cell_type": "code",
   "execution_count": 93,
   "metadata": {},
   "outputs": [
    {
     "data": {
      "text/plain": [
       "75"
      ]
     },
     "execution_count": 93,
     "metadata": {},
     "output_type": "execute_result"
    }
   ],
   "source": [
    "k"
   ]
  },
  {
   "cell_type": "code",
   "execution_count": null,
   "metadata": {},
   "outputs": [],
   "source": []
  }
 ],
 "metadata": {
  "kernelspec": {
   "display_name": "Python 3",
   "language": "python",
   "name": "python3"
  },
  "language_info": {
   "codemirror_mode": {
    "name": "ipython",
    "version": 3
   },
   "file_extension": ".py",
   "mimetype": "text/x-python",
   "name": "python",
   "nbconvert_exporter": "python",
   "pygments_lexer": "ipython3",
   "version": "3.10.9"
  },
  "orig_nbformat": 4,
  "vscode": {
   "interpreter": {
    "hash": "66f804da07f0f556d77bc3269dc5bb19edf020422864031af2885e5ff55f9079"
   }
  }
 },
 "nbformat": 4,
 "nbformat_minor": 2
}
